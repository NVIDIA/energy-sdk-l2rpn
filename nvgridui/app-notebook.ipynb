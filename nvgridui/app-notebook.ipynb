{
 "cells": [
  {
   "cell_type": "code",
   "execution_count": 1,
   "id": "54d9878d",
   "metadata": {
    "scrolled": false
   },
   "outputs": [
    {
     "data": {
      "text/html": [
       "<style>\n",
       ".jp-Cell {\n",
       "    margin:unset;\n",
       "    padding: unset;\n",
       "}\n",
       ".jp-Cell:not(.jp-mod-noOutputs) .jp-Cell-outputWrapper{\n",
       "    margin:unset;\n",
       "}\n",
       ".jp-Notebook {\n",
       "    margin:unset;\n",
       "    padding: unset;\n",
       "}\n",
       ".p-Widget {\n",
       "    width: 100%;\n",
       "}\n",
       "</style>"
      ],
      "text/plain": [
       "<IPython.core.display.HTML object>"
      ]
     },
     "metadata": {},
     "output_type": "display_data"
    },
    {
     "data": {
      "application/vnd.jupyter.widget-view+json": {
       "model_id": "f1f692b5dceb437381b257d2f89e031a",
       "version_major": 2,
       "version_minor": 0
      },
      "text/plain": [
       "AppLoader(apps=['nvgrid', 'nvgrid.newapp'], components={'mycontent': VBox(), 'app-output': Output()}, events=[…"
      ]
     },
     "metadata": {},
     "output_type": "display_data"
    }
   ],
   "source": [
    "import nvapp.app"
   ]
  },
  {
   "cell_type": "code",
   "execution_count": 2,
   "id": "5e03e329",
   "metadata": {},
   "outputs": [],
   "source": [
    "%matplotlib widget"
   ]
  }
 ],
 "metadata": {
  "kernelspec": {
   "display_name": "Python 3 (ipykernel)",
   "language": "python",
   "name": "python3"
  },
  "language_info": {
   "codemirror_mode": {
    "name": "ipython",
    "version": 3
   },
   "file_extension": ".py",
   "mimetype": "text/x-python",
   "name": "python",
   "nbconvert_exporter": "python",
   "pygments_lexer": "ipython3",
   "version": "3.9.5"
  }
 },
 "nbformat": 4,
 "nbformat_minor": 5
}
